{
  "cells": [
    {
      "cell_type": "markdown",
      "metadata": {
        "id": "view-in-github",
        "colab_type": "text"
      },
      "source": [
        "<a href=\"https://colab.research.google.com/github/MuhammadHammad02/Basics-of-Numpy-/blob/main/SMIT_Class_1.ipynb\" target=\"_parent\"><img src=\"https://colab.research.google.com/assets/colab-badge.svg\" alt=\"Open In Colab\"/></a>"
      ]
    },
    {
      "cell_type": "markdown",
      "id": "f16bedf4",
      "metadata": {
        "id": "f16bedf4"
      },
      "source": [
        "# Numpy"
      ]
    },
    {
      "cell_type": "markdown",
      "id": "f002d5a8",
      "metadata": {
        "id": "f002d5a8"
      },
      "source": [
        " - Numerical Python:\n",
        "                    - its an array written in C\n",
        "\n",
        "                    - Fast\n",
        "                     \n",
        "                    -  Vectorised Operation    "
      ]
    },
    {
      "cell_type": "markdown",
      "id": "992092d4",
      "metadata": {
        "id": "992092d4"
      },
      "source": [
        "### Array Creation\n",
        "       - python list\n",
        "       - array()\n",
        "       - arange()\n",
        "       "
      ]
    },
    {
      "cell_type": "code",
      "execution_count": null,
      "id": "afad7e5d",
      "metadata": {
        "id": "afad7e5d"
      },
      "outputs": [],
      "source": [
        "import numpy as np"
      ]
    },
    {
      "cell_type": "code",
      "execution_count": null,
      "id": "d2c5fd62",
      "metadata": {
        "id": "d2c5fd62"
      },
      "outputs": [],
      "source": [
        "arr = np.array([1,2,3,4,5,6,7,8,9,10])"
      ]
    },
    {
      "cell_type": "code",
      "execution_count": null,
      "id": "ba98373a",
      "metadata": {
        "id": "ba98373a",
        "outputId": "18cefbf9-6a47-48c7-ae07-7d41f3d0d850"
      },
      "outputs": [
        {
          "data": {
            "text/plain": [
              "array([ 1,  2,  3,  4,  5,  6,  7,  8,  9, 10])"
            ]
          },
          "execution_count": 5,
          "metadata": {},
          "output_type": "execute_result"
        }
      ],
      "source": [
        "arr"
      ]
    },
    {
      "cell_type": "code",
      "execution_count": null,
      "id": "fdc17b57",
      "metadata": {
        "id": "fdc17b57",
        "outputId": "2eabd3e8-749a-4f69-de6e-76f4bb603c7b"
      },
      "outputs": [
        {
          "data": {
            "text/plain": [
              "10"
            ]
          },
          "execution_count": 6,
          "metadata": {},
          "output_type": "execute_result"
        }
      ],
      "source": [
        "# array size\n",
        "arr.size"
      ]
    },
    {
      "cell_type": "code",
      "execution_count": null,
      "id": "809a119e",
      "metadata": {
        "id": "809a119e",
        "outputId": "4048c67b-fb0e-4312-9068-32ae44bbeb36"
      },
      "outputs": [
        {
          "data": {
            "text/plain": [
              "(10,)"
            ]
          },
          "execution_count": 8,
          "metadata": {},
          "output_type": "execute_result"
        }
      ],
      "source": [
        "# array shape\n",
        "arr.shape"
      ]
    },
    {
      "cell_type": "code",
      "execution_count": null,
      "id": "c32496dd",
      "metadata": {
        "id": "c32496dd",
        "outputId": "6efe39cd-7468-4929-9c01-7fa62f6fbcf7"
      },
      "outputs": [
        {
          "data": {
            "text/plain": [
              "1"
            ]
          },
          "execution_count": 9,
          "metadata": {},
          "output_type": "execute_result"
        }
      ],
      "source": [
        "arr.ndim"
      ]
    },
    {
      "cell_type": "code",
      "execution_count": null,
      "id": "9db6d8cf",
      "metadata": {
        "id": "9db6d8cf",
        "outputId": "26e532f1-22ef-4222-fe40-ee470d42ac29"
      },
      "outputs": [
        {
          "data": {
            "text/plain": [
              "5"
            ]
          },
          "execution_count": 10,
          "metadata": {},
          "output_type": "execute_result"
        }
      ],
      "source": [
        "arr[4]"
      ]
    },
    {
      "cell_type": "code",
      "execution_count": null,
      "id": "7215c49a",
      "metadata": {
        "id": "7215c49a",
        "outputId": "ea27eeea-cf12-499a-d075-236cd6b7685f"
      },
      "outputs": [
        {
          "data": {
            "text/plain": [
              "array([4, 5, 6, 7])"
            ]
          },
          "execution_count": 11,
          "metadata": {},
          "output_type": "execute_result"
        }
      ],
      "source": [
        "arr[3:7]"
      ]
    },
    {
      "cell_type": "code",
      "execution_count": null,
      "id": "eefdfd89",
      "metadata": {
        "id": "eefdfd89",
        "outputId": "bb3f844e-7ee4-4097-9d1b-4cd30a39d0fa"
      },
      "outputs": [
        {
          "data": {
            "text/plain": [
              "array([10,  9,  8,  7,  6,  5])"
            ]
          },
          "execution_count": 12,
          "metadata": {},
          "output_type": "execute_result"
        }
      ],
      "source": [
        "arr[9:3:-1]"
      ]
    },
    {
      "cell_type": "markdown",
      "id": "f13acef1",
      "metadata": {
        "id": "f13acef1"
      },
      "source": [
        "# 2D-aRRAY"
      ]
    },
    {
      "cell_type": "code",
      "execution_count": null,
      "id": "bd3c0e23",
      "metadata": {
        "id": "bd3c0e23"
      },
      "outputs": [],
      "source": [
        "arr2d = np.array([\n",
        "                   [1,2,3,4],\n",
        "                   [5,6,7,8],\n",
        "                   [9,10,11,12],\n",
        "                   [11,22,33,44]\n",
        "                 ])"
      ]
    },
    {
      "cell_type": "code",
      "execution_count": null,
      "id": "11d2f055",
      "metadata": {
        "id": "11d2f055",
        "outputId": "8ba8f750-a2a7-47c3-eaa0-97992dd7fab2"
      },
      "outputs": [
        {
          "data": {
            "text/plain": [
              "array([[ 1,  2,  3,  4],\n",
              "       [ 5,  6,  7,  8],\n",
              "       [ 9, 10, 11, 12],\n",
              "       [11, 22, 33, 44]])"
            ]
          },
          "execution_count": 33,
          "metadata": {},
          "output_type": "execute_result"
        }
      ],
      "source": [
        "arr2d"
      ]
    },
    {
      "cell_type": "code",
      "execution_count": null,
      "id": "f8f09660",
      "metadata": {
        "id": "f8f09660",
        "outputId": "0d692397-f3fa-4a2d-d706-54dc9ab8ccfa"
      },
      "outputs": [
        {
          "data": {
            "text/plain": [
              "16"
            ]
          },
          "execution_count": 34,
          "metadata": {},
          "output_type": "execute_result"
        }
      ],
      "source": [
        "arr2d.size"
      ]
    },
    {
      "cell_type": "code",
      "execution_count": null,
      "id": "4d1b31ce",
      "metadata": {
        "id": "4d1b31ce",
        "outputId": "8724f214-e40e-4ddc-92d0-35e0cafc01ed"
      },
      "outputs": [
        {
          "data": {
            "text/plain": [
              "(4, 4)"
            ]
          },
          "execution_count": 35,
          "metadata": {},
          "output_type": "execute_result"
        }
      ],
      "source": [
        "arr2d.shape"
      ]
    },
    {
      "cell_type": "code",
      "execution_count": null,
      "id": "1e4b24ea",
      "metadata": {
        "id": "1e4b24ea",
        "outputId": "02000ec9-c552-403c-9266-458f712d0040"
      },
      "outputs": [
        {
          "data": {
            "text/plain": [
              "2"
            ]
          },
          "execution_count": 36,
          "metadata": {},
          "output_type": "execute_result"
        }
      ],
      "source": [
        "arr2d.ndim"
      ]
    },
    {
      "cell_type": "code",
      "execution_count": null,
      "id": "259b4066",
      "metadata": {
        "id": "259b4066",
        "outputId": "136831e0-184a-47c3-ba72-4e937ef5f70a"
      },
      "outputs": [
        {
          "data": {
            "text/plain": [
              "array([[ 1,  2,  3,  4],\n",
              "       [ 5,  6,  7,  8],\n",
              "       [ 9, 10, 11, 12],\n",
              "       [11, 22, 33, 44]])"
            ]
          },
          "execution_count": 37,
          "metadata": {},
          "output_type": "execute_result"
        }
      ],
      "source": [
        "arr2d"
      ]
    },
    {
      "cell_type": "code",
      "execution_count": null,
      "id": "6dd59f8d",
      "metadata": {
        "id": "6dd59f8d",
        "outputId": "2cc44cdb-9403-4514-86cd-e2ffe3320e6a"
      },
      "outputs": [
        {
          "data": {
            "text/plain": [
              "11"
            ]
          },
          "execution_count": 38,
          "metadata": {},
          "output_type": "execute_result"
        }
      ],
      "source": [
        "arr2d[2][2]"
      ]
    },
    {
      "cell_type": "code",
      "execution_count": null,
      "id": "9e2fa349",
      "metadata": {
        "id": "9e2fa349",
        "outputId": "61c38ab0-5c37-4191-f7c1-83f97a20c50f"
      },
      "outputs": [
        {
          "data": {
            "text/plain": [
              "11"
            ]
          },
          "execution_count": 39,
          "metadata": {},
          "output_type": "execute_result"
        }
      ],
      "source": [
        "arr2d[2,2]"
      ]
    },
    {
      "cell_type": "markdown",
      "id": "cbe44f18",
      "metadata": {
        "id": "cbe44f18"
      },
      "source": [
        "# Indexing and Slicing"
      ]
    },
    {
      "cell_type": "code",
      "execution_count": null,
      "id": "a65e94f2",
      "metadata": {
        "id": "a65e94f2",
        "outputId": "335046af-8232-4f88-8fda-a786774aaecf"
      },
      "outputs": [
        {
          "data": {
            "text/plain": [
              "array([[ 1,  2,  3,  4],\n",
              "       [ 5,  6,  7,  8],\n",
              "       [ 9, 10, 11, 12],\n",
              "       [11, 22, 33, 44]])"
            ]
          },
          "execution_count": 49,
          "metadata": {},
          "output_type": "execute_result"
        }
      ],
      "source": [
        "arr2d"
      ]
    },
    {
      "cell_type": "code",
      "execution_count": null,
      "id": "6a300925",
      "metadata": {
        "id": "6a300925",
        "outputId": "ca63e46d-934d-4fe4-840c-1d1e6e8ed9d9"
      },
      "outputs": [
        {
          "data": {
            "text/plain": [
              "array([[ 0,  1,  2,  3,  4,  5,  6,  7],\n",
              "       [ 8,  9, 10, 11, 12, 13, 14, 15],\n",
              "       [16, 17, 18, 19, 20, 21, 22, 23],\n",
              "       [24, 25, 26, 27, 28, 29, 30, 31],\n",
              "       [32, 33, 34, 35, 36, 37, 38, 39],\n",
              "       [40, 41, 42, 43, 44, 45, 46, 47],\n",
              "       [48, 49, 50, 51, 52, 53, 54, 55],\n",
              "       [56, 57, 58, 59, 60, 61, 62, 63]])"
            ]
          },
          "execution_count": 54,
          "metadata": {},
          "output_type": "execute_result"
        }
      ],
      "source": [
        "arr2d = np.arange(64).reshape(8,8)\n",
        "arr2d"
      ]
    },
    {
      "cell_type": "code",
      "execution_count": null,
      "id": "165d948c",
      "metadata": {
        "id": "165d948c",
        "outputId": "02b3ffee-0e9b-4f91-b570-8b0f07912636"
      },
      "outputs": [
        {
          "data": {
            "text/plain": [
              "array([[29, 30],\n",
              "       [37, 38],\n",
              "       [45, 46]])"
            ]
          },
          "execution_count": 55,
          "metadata": {},
          "output_type": "execute_result"
        }
      ],
      "source": [
        "# indexing\n",
        "arr2d[3:6,5:7]"
      ]
    },
    {
      "cell_type": "code",
      "execution_count": null,
      "id": "06ba0a25",
      "metadata": {
        "id": "06ba0a25",
        "outputId": "4e0bb294-dad9-4093-c6c1-c971bd8a3ae6"
      },
      "outputs": [
        {
          "data": {
            "text/plain": [
              "9"
            ]
          },
          "execution_count": 51,
          "metadata": {},
          "output_type": "execute_result"
        }
      ],
      "source": [
        "arr2d[2,0]"
      ]
    },
    {
      "cell_type": "code",
      "execution_count": null,
      "id": "194527b1",
      "metadata": {
        "id": "194527b1",
        "outputId": "27183c47-3528-4d66-cbbe-2e1deb967108"
      },
      "outputs": [
        {
          "data": {
            "text/plain": [
              "44"
            ]
          },
          "execution_count": 52,
          "metadata": {},
          "output_type": "execute_result"
        }
      ],
      "source": [
        "arr2d[3,3]"
      ]
    },
    {
      "cell_type": "code",
      "execution_count": null,
      "id": "d0318cd7",
      "metadata": {
        "id": "d0318cd7",
        "outputId": "2812108c-d81f-4480-da46-1600b8be956d"
      },
      "outputs": [
        {
          "data": {
            "text/plain": [
              "array([[6]])"
            ]
          },
          "execution_count": 42,
          "metadata": {},
          "output_type": "execute_result"
        }
      ],
      "source": [
        "#[r,c]>>> [startrow:endrow   , startcol:endcol]\n",
        "arr2d[]"
      ]
    },
    {
      "cell_type": "code",
      "execution_count": null,
      "id": "b848403a",
      "metadata": {
        "id": "b848403a",
        "outputId": "624a119e-2ece-4c7d-9291-3a3d03079a67"
      },
      "outputs": [
        {
          "data": {
            "text/plain": [
              "array([[ 1,  2,  3,  4],\n",
              "       [ 5,  6,  7,  8],\n",
              "       [ 9, 10, 11, 12],\n",
              "       [11, 22, 33, 44]])"
            ]
          },
          "execution_count": 43,
          "metadata": {},
          "output_type": "execute_result"
        }
      ],
      "source": [
        "arr2d"
      ]
    },
    {
      "cell_type": "code",
      "execution_count": null,
      "id": "17e98356",
      "metadata": {
        "id": "17e98356",
        "outputId": "79ebed0b-9606-41cd-d504-bc5f41369cf4"
      },
      "outputs": [
        {
          "data": {
            "text/plain": [
              "array([[ 6,  7],\n",
              "       [10, 11]])"
            ]
          },
          "execution_count": 44,
          "metadata": {},
          "output_type": "execute_result"
        }
      ],
      "source": [
        "arr2d[1:3,1:3]"
      ]
    },
    {
      "cell_type": "code",
      "execution_count": null,
      "id": "348dba98",
      "metadata": {
        "id": "348dba98",
        "outputId": "98e1a436-0622-4c70-b69e-fd7310a3912f"
      },
      "outputs": [
        {
          "data": {
            "text/plain": [
              "array([[10, 11]])"
            ]
          },
          "execution_count": 46,
          "metadata": {},
          "output_type": "execute_result"
        }
      ],
      "source": [
        "arr2d[2:3,1:3]"
      ]
    },
    {
      "cell_type": "code",
      "execution_count": null,
      "id": "ad6eb706",
      "metadata": {
        "id": "ad6eb706",
        "outputId": "93a2c63b-6eac-482a-c6cb-df200289853a"
      },
      "outputs": [
        {
          "data": {
            "text/plain": [
              "array([[ 4],\n",
              "       [ 8],\n",
              "       [12],\n",
              "       [44]])"
            ]
          },
          "execution_count": 48,
          "metadata": {},
          "output_type": "execute_result"
        }
      ],
      "source": [
        "arr2d[:,3:]"
      ]
    },
    {
      "cell_type": "code",
      "execution_count": null,
      "id": "6c75fcfd",
      "metadata": {
        "id": "6c75fcfd",
        "outputId": "58a7ec23-b4e2-45be-cc91-6bbe08e7df5e"
      },
      "outputs": [
        {
          "data": {
            "text/plain": [
              "array([[26, 27, 28, 29],\n",
              "       [34, 35, 36, 37],\n",
              "       [42, 43, 44, 45]])"
            ]
          },
          "execution_count": 56,
          "metadata": {},
          "output_type": "execute_result"
        }
      ],
      "source": [
        "arr2d[3:6,2:6]"
      ]
    },
    {
      "cell_type": "code",
      "execution_count": null,
      "id": "27eda208",
      "metadata": {
        "id": "27eda208",
        "outputId": "77eb21f5-0f25-489e-8989-8062a321a076"
      },
      "outputs": [
        {
          "data": {
            "text/plain": [
              "array([[12, 13],\n",
              "       [20, 21],\n",
              "       [28, 29],\n",
              "       [36, 37],\n",
              "       [44, 45],\n",
              "       [52, 53],\n",
              "       [60, 61]])"
            ]
          },
          "execution_count": 57,
          "metadata": {},
          "output_type": "execute_result"
        }
      ],
      "source": [
        "arr2d[1:,4:6]"
      ]
    },
    {
      "cell_type": "code",
      "execution_count": null,
      "id": "f6a55863",
      "metadata": {
        "id": "f6a55863",
        "outputId": "8f278f35-bac9-4888-f6b4-602d193a761d"
      },
      "outputs": [
        {
          "data": {
            "text/plain": [
              "array([[ 1,  2,  3,  4,  5,  6],\n",
              "       [ 9, 10, 11, 12, 13, 14],\n",
              "       [17, 18, 19, 20, 21, 22],\n",
              "       [25, 26, 27, 28, 29, 30],\n",
              "       [33, 34, 35, 36, 37, 38],\n",
              "       [41, 42, 43, 44, 45, 46],\n",
              "       [49, 50, 51, 52, 53, 54],\n",
              "       [57, 58, 59, 60, 61, 62]])"
            ]
          },
          "execution_count": 58,
          "metadata": {},
          "output_type": "execute_result"
        }
      ],
      "source": [
        "arr2d[:,1:7]"
      ]
    },
    {
      "cell_type": "code",
      "execution_count": null,
      "id": "53485948",
      "metadata": {
        "scrolled": true,
        "id": "53485948",
        "outputId": "d189be0c-1f35-4abd-fe77-7406bfd0d18a"
      },
      "outputs": [
        {
          "data": {
            "text/plain": [
              "array([[35, 36]])"
            ]
          },
          "execution_count": 61,
          "metadata": {},
          "output_type": "execute_result"
        }
      ],
      "source": [
        "arr2d[4:5,3:5]"
      ]
    },
    {
      "cell_type": "code",
      "execution_count": null,
      "id": "522ee8cf",
      "metadata": {
        "id": "522ee8cf",
        "outputId": "f9f9bd44-cfea-483e-8436-08c0ac0c9b5a"
      },
      "outputs": [
        {
          "data": {
            "text/plain": [
              "array([[ 0,  1,  2,  3,  4,  5,  6,  7],\n",
              "       [ 8,  9, 10, 11, 12, 13, 14, 15],\n",
              "       [16, 17, 18, 19, 20, 21, 22, 23],\n",
              "       [24, 25, 26, 27, 28, 29, 30, 31],\n",
              "       [32, 33, 34, 35, 36, 37, 38, 39],\n",
              "       [40, 41, 42, 43, 44, 45, 46, 47],\n",
              "       [48, 49, 50, 51, 52, 53, 54, 55],\n",
              "       [56, 57, 58, 59, 60, 61, 62, 63]])"
            ]
          },
          "execution_count": 62,
          "metadata": {},
          "output_type": "execute_result"
        }
      ],
      "source": [
        "arr2d"
      ]
    },
    {
      "cell_type": "code",
      "execution_count": null,
      "id": "c06b5328",
      "metadata": {
        "id": "c06b5328"
      },
      "outputs": [],
      "source": [
        "arr2d[2,4] = 200"
      ]
    },
    {
      "cell_type": "code",
      "execution_count": null,
      "id": "62b77e5a",
      "metadata": {
        "id": "62b77e5a",
        "outputId": "7c36cb26-9746-4e51-cb2f-f4607d7f45a1"
      },
      "outputs": [
        {
          "data": {
            "text/plain": [
              "array([[  0,   1,   2,   3,   4,   5,   6,   7],\n",
              "       [  8,   9,  10,  11,  12,  13,  14,  15],\n",
              "       [ 16,  17,  18,  19, 200,  21,  22,  23],\n",
              "       [ 24,  25,  26,  27,  28,  29,  30,  31],\n",
              "       [ 32,  33,  34,  35,  36,  37,  38,  39],\n",
              "       [ 40,  41,  42,  43,  44,  45,  46,  47],\n",
              "       [ 48,  49,  50,  51,  52,  53,  54,  55],\n",
              "       [ 56,  57,  58,  59,  60,  61,  62,  63]])"
            ]
          },
          "execution_count": 64,
          "metadata": {},
          "output_type": "execute_result"
        }
      ],
      "source": [
        "arr2d"
      ]
    },
    {
      "cell_type": "code",
      "execution_count": null,
      "id": "340226a5",
      "metadata": {
        "id": "340226a5"
      },
      "outputs": [],
      "source": [
        "a=arr2d[2,4]"
      ]
    },
    {
      "cell_type": "code",
      "execution_count": null,
      "id": "162e194d",
      "metadata": {
        "id": "162e194d",
        "outputId": "b19337b7-a8ae-4201-ab4e-eba489326351"
      },
      "outputs": [
        {
          "data": {
            "text/plain": [
              "numpy.int32"
            ]
          },
          "execution_count": 68,
          "metadata": {},
          "output_type": "execute_result"
        }
      ],
      "source": [
        "type(a)"
      ]
    },
    {
      "cell_type": "markdown",
      "id": "b67173d1",
      "metadata": {
        "id": "b67173d1"
      },
      "source": [
        "# array 3d"
      ]
    },
    {
      "cell_type": "code",
      "execution_count": null,
      "id": "d6beb770",
      "metadata": {
        "id": "d6beb770",
        "outputId": "7bae38f6-ecb7-408e-9909-ea9dfa8db7aa"
      },
      "outputs": [
        {
          "data": {
            "text/plain": [
              "array([[[ 0,  1,  2],\n",
              "        [ 3,  4,  5],\n",
              "        [ 6,  7,  8],\n",
              "        [ 9, 10, 11]],\n",
              "\n",
              "       [[12, 13, 14],\n",
              "        [15, 16, 17],\n",
              "        [18, 19, 20],\n",
              "        [21, 22, 23]]])"
            ]
          },
          "execution_count": 74,
          "metadata": {},
          "output_type": "execute_result"
        }
      ],
      "source": [
        "arr3d = np.arange(24).reshape(2,4,3) # (depth, row, col)\n",
        "arr3d"
      ]
    },
    {
      "cell_type": "code",
      "execution_count": null,
      "id": "5cbce628",
      "metadata": {
        "id": "5cbce628",
        "outputId": "1a013453-08a3-478c-d3fb-73c5251fa07d"
      },
      "outputs": [
        {
          "data": {
            "text/plain": [
              "3"
            ]
          },
          "execution_count": 75,
          "metadata": {},
          "output_type": "execute_result"
        }
      ],
      "source": [
        "arr3d.ndim"
      ]
    },
    {
      "cell_type": "code",
      "execution_count": null,
      "id": "ba52ac0f",
      "metadata": {
        "id": "ba52ac0f",
        "outputId": "7665426e-21cb-4c18-8f3d-a5fb00150df6"
      },
      "outputs": [
        {
          "data": {
            "text/plain": [
              "16"
            ]
          },
          "execution_count": 76,
          "metadata": {},
          "output_type": "execute_result"
        }
      ],
      "source": [
        "arr3d[1,1,1]"
      ]
    },
    {
      "cell_type": "code",
      "execution_count": null,
      "id": "76d3320b",
      "metadata": {
        "id": "76d3320b",
        "outputId": "ad2efdcf-342a-492d-e2fa-1f5d6370975b"
      },
      "outputs": [
        {
          "data": {
            "text/plain": [
              "20"
            ]
          },
          "execution_count": 77,
          "metadata": {},
          "output_type": "execute_result"
        }
      ],
      "source": [
        "arr3d[1,2,2]"
      ]
    },
    {
      "cell_type": "markdown",
      "id": "bf96f17e",
      "metadata": {
        "id": "bf96f17e"
      },
      "source": [
        "# Vectorized Operation:"
      ]
    },
    {
      "cell_type": "code",
      "execution_count": null,
      "id": "b3ce2d2d",
      "metadata": {
        "id": "b3ce2d2d",
        "outputId": "982c444c-5ef4-4586-f882-da23a81fcaaa"
      },
      "outputs": [
        {
          "data": {
            "text/plain": [
              "array([ 1,  2,  3,  4,  5,  6,  7,  8,  9, 10])"
            ]
          },
          "execution_count": 78,
          "metadata": {},
          "output_type": "execute_result"
        }
      ],
      "source": [
        "arr"
      ]
    },
    {
      "cell_type": "code",
      "execution_count": null,
      "id": "e989e5f0",
      "metadata": {
        "id": "e989e5f0"
      },
      "outputs": [],
      "source": [
        "lst=[]\n",
        "for a in arr:\n",
        "    lst.append(a*10)"
      ]
    },
    {
      "cell_type": "code",
      "execution_count": null,
      "id": "e49bdd35",
      "metadata": {
        "id": "e49bdd35",
        "outputId": "e3cd3b12-9e78-42a3-a555-6ce1b38d6184"
      },
      "outputs": [
        {
          "data": {
            "text/plain": [
              "[10, 20, 30, 40, 50, 60, 70, 80, 90, 100]"
            ]
          },
          "execution_count": 80,
          "metadata": {},
          "output_type": "execute_result"
        }
      ],
      "source": [
        "lst"
      ]
    },
    {
      "cell_type": "code",
      "execution_count": null,
      "id": "d2b8504b",
      "metadata": {
        "id": "d2b8504b",
        "outputId": "7768446e-d9e2-4a75-a4c4-ff0f21f96aa4"
      },
      "outputs": [
        {
          "data": {
            "text/plain": [
              "array([ 1,  2,  3,  4,  5,  6,  7,  8,  9, 10])"
            ]
          },
          "execution_count": 81,
          "metadata": {},
          "output_type": "execute_result"
        }
      ],
      "source": [
        "arr"
      ]
    },
    {
      "cell_type": "code",
      "execution_count": null,
      "id": "dd7608b2",
      "metadata": {
        "id": "dd7608b2",
        "outputId": "2f1eceba-88a9-4e60-b7e0-5fe87a291b20"
      },
      "outputs": [
        {
          "data": {
            "text/plain": [
              "array([ 2,  4,  6,  8, 10, 12, 14, 16, 18, 20])"
            ]
          },
          "execution_count": 82,
          "metadata": {},
          "output_type": "execute_result"
        }
      ],
      "source": [
        "arr*2"
      ]
    },
    {
      "cell_type": "code",
      "execution_count": null,
      "id": "415dbefd",
      "metadata": {
        "id": "415dbefd",
        "outputId": "1703ea95-923a-4a0e-b4a5-86492635c538"
      },
      "outputs": [
        {
          "data": {
            "text/plain": [
              "array([[  0,   1,   2,   3,   4,   5,   6,   7],\n",
              "       [  8,   9,  10,  11,  12,  13,  14,  15],\n",
              "       [ 16,  17,  18,  19, 200,  21,  22,  23],\n",
              "       [ 24,  25,  26,  27,  28,  29,  30,  31],\n",
              "       [ 32,  33,  34,  35,  36,  37,  38,  39],\n",
              "       [ 40,  41,  42,  43,  44,  45,  46,  47],\n",
              "       [ 48,  49,  50,  51,  52,  53,  54,  55],\n",
              "       [ 56,  57,  58,  59,  60,  61,  62,  63]])"
            ]
          },
          "execution_count": 83,
          "metadata": {},
          "output_type": "execute_result"
        }
      ],
      "source": [
        "arr2d"
      ]
    },
    {
      "cell_type": "code",
      "execution_count": null,
      "id": "7a12459e",
      "metadata": {
        "id": "7a12459e",
        "outputId": "0a90f68e-d9e9-4d05-ff2f-461ecaf66053"
      },
      "outputs": [
        {
          "data": {
            "text/plain": [
              "array([[ 0. ,  0.1,  0.2,  0.3,  0.4,  0.5,  0.6,  0.7],\n",
              "       [ 0.8,  0.9,  1. ,  1.1,  1.2,  1.3,  1.4,  1.5],\n",
              "       [ 1.6,  1.7,  1.8,  1.9, 20. ,  2.1,  2.2,  2.3],\n",
              "       [ 2.4,  2.5,  2.6,  2.7,  2.8,  2.9,  3. ,  3.1],\n",
              "       [ 3.2,  3.3,  3.4,  3.5,  3.6,  3.7,  3.8,  3.9],\n",
              "       [ 4. ,  4.1,  4.2,  4.3,  4.4,  4.5,  4.6,  4.7],\n",
              "       [ 4.8,  4.9,  5. ,  5.1,  5.2,  5.3,  5.4,  5.5],\n",
              "       [ 5.6,  5.7,  5.8,  5.9,  6. ,  6.1,  6.2,  6.3]])"
            ]
          },
          "execution_count": 84,
          "metadata": {},
          "output_type": "execute_result"
        }
      ],
      "source": [
        "arr2d/10"
      ]
    },
    {
      "cell_type": "code",
      "execution_count": null,
      "id": "8bb1bdbd",
      "metadata": {
        "id": "8bb1bdbd"
      },
      "outputs": [],
      "source": []
    }
  ],
  "metadata": {
    "kernelspec": {
      "display_name": "Python 3 (ipykernel)",
      "language": "python",
      "name": "python3"
    },
    "language_info": {
      "codemirror_mode": {
        "name": "ipython",
        "version": 3
      },
      "file_extension": ".py",
      "mimetype": "text/x-python",
      "name": "python",
      "nbconvert_exporter": "python",
      "pygments_lexer": "ipython3",
      "version": "3.11.5"
    },
    "colab": {
      "provenance": [],
      "include_colab_link": true
    }
  },
  "nbformat": 4,
  "nbformat_minor": 5
}