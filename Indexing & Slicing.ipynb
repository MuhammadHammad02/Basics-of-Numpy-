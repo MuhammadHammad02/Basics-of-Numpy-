{
 "cells": [
  {
   "cell_type": "code",
   "execution_count": 1,
   "id": "41f47ffa",
   "metadata": {},
   "outputs": [],
   "source": [
    "import numpy as np\n"
   ]
  },
  {
   "cell_type": "code",
   "execution_count": 2,
   "id": "4c7115c3",
   "metadata": {},
   "outputs": [
    {
     "data": {
      "text/plain": [
       "array([1, 4, 7, 9, 8, 6])"
      ]
     },
     "execution_count": 2,
     "metadata": {},
     "output_type": "execute_result"
    }
   ],
   "source": [
    "x=np.array([1,4,7,9,8,6])\n",
    "x"
   ]
  },
  {
   "cell_type": "code",
   "execution_count": 3,
   "id": "1c5159b2",
   "metadata": {},
   "outputs": [
    {
     "data": {
      "text/plain": [
       "8"
      ]
     },
     "execution_count": 3,
     "metadata": {},
     "output_type": "execute_result"
    }
   ],
   "source": [
    "x[4]"
   ]
  },
  {
   "cell_type": "code",
   "execution_count": 4,
   "id": "27d86bb4",
   "metadata": {},
   "outputs": [
    {
     "data": {
      "text/plain": [
       "array([False, False,  True,  True,  True,  True])"
      ]
     },
     "execution_count": 4,
     "metadata": {},
     "output_type": "execute_result"
    }
   ],
   "source": [
    "x>5"
   ]
  },
  {
   "cell_type": "code",
   "execution_count": 5,
   "id": "f37c04b1",
   "metadata": {},
   "outputs": [
    {
     "data": {
      "text/plain": [
       "array([7, 9, 8, 6])"
      ]
     },
     "execution_count": 5,
     "metadata": {},
     "output_type": "execute_result"
    }
   ],
   "source": [
    "x[x>5]"
   ]
  },
  {
   "cell_type": "code",
   "execution_count": 6,
   "id": "7fbacd4b",
   "metadata": {},
   "outputs": [
    {
     "data": {
      "text/plain": [
       "array([9, 8])"
      ]
     },
     "execution_count": 6,
     "metadata": {},
     "output_type": "execute_result"
    }
   ],
   "source": [
    "x[[3,4]]"
   ]
  },
  {
   "cell_type": "code",
   "execution_count": 7,
   "id": "032dc377",
   "metadata": {},
   "outputs": [],
   "source": [
    "x=np.random.randn(10,10)"
   ]
  },
  {
   "cell_type": "code",
   "execution_count": 8,
   "id": "69ef7952",
   "metadata": {},
   "outputs": [
    {
     "data": {
      "text/plain": [
       "array([[-0.64856241,  0.81887485, -2.23008685, -1.27944586,  0.12393766,\n",
       "         0.88252796, -1.23249555, -1.60403658, -0.36648718,  1.10020794],\n",
       "       [-1.49419678,  1.95418072,  0.4086847 ,  0.95839652,  2.10643625,\n",
       "        -0.02185256, -0.86169104, -0.46062374,  0.82811743, -1.61860584],\n",
       "       [ 0.39880944, -0.76191717, -0.36260076,  1.84045585, -1.53430671,\n",
       "        -0.51327222,  1.08001688, -1.20902583, -0.19355962, -0.57614011],\n",
       "       [-0.54314176, -0.65830698, -0.14077805, -0.56503702,  1.32028904,\n",
       "         0.66917713, -0.85445188, -0.16188862, -1.80282556,  0.89037243],\n",
       "       [ 2.5260006 ,  0.58730631,  0.42708657, -0.75008508, -0.63695979,\n",
       "        -0.54750164,  0.64300419, -0.0696639 , -0.19010923,  2.08104481],\n",
       "       [ 1.21066049,  0.61176268,  1.07818345,  0.42229889,  1.65921142,\n",
       "         1.53696665, -0.24799506,  0.30773048, -2.46935238, -0.71513656],\n",
       "       [ 1.79368329,  1.12485246,  1.31563865,  0.6935904 ,  0.88733614,\n",
       "        -0.46706743, -0.57527227, -1.9264781 , -1.45207042,  1.08853946],\n",
       "       [ 0.19502816, -0.64862852, -0.23241431, -0.37231318,  0.34850253,\n",
       "         0.20932072, -1.23134133, -0.36443698, -0.900004  ,  0.74688798],\n",
       "       [ 2.48933184,  0.59849134,  0.72820388,  0.06938457, -1.08008804,\n",
       "         0.83377777, -0.39425649,  0.23107978,  0.05065432,  0.33530701],\n",
       "       [ 0.08538621, -0.05745856,  0.1847193 , -0.02320195, -0.86599281,\n",
       "        -1.02807385,  1.96684186,  1.31861091, -0.19738442, -0.82799356]])"
      ]
     },
     "execution_count": 8,
     "metadata": {},
     "output_type": "execute_result"
    }
   ],
   "source": [
    "x"
   ]
  },
  {
   "cell_type": "code",
   "execution_count": 9,
   "id": "0f5c169a",
   "metadata": {},
   "outputs": [
    {
     "data": {
      "text/plain": [
       "array([-0.64856241,  0.81887485, -2.23008685, -1.27944586,  0.12393766,\n",
       "        0.88252796, -1.23249555, -1.60403658, -0.36648718,  1.10020794])"
      ]
     },
     "execution_count": 9,
     "metadata": {},
     "output_type": "execute_result"
    }
   ],
   "source": [
    "x[0]"
   ]
  },
  {
   "cell_type": "code",
   "execution_count": 10,
   "id": "58351e98",
   "metadata": {},
   "outputs": [
    {
     "data": {
      "text/plain": [
       "0.12393766298263777"
      ]
     },
     "execution_count": 10,
     "metadata": {},
     "output_type": "execute_result"
    }
   ],
   "source": [
    "x[0,4]"
   ]
  },
  {
   "cell_type": "code",
   "execution_count": 15,
   "id": "c293c7f8",
   "metadata": {},
   "outputs": [
    {
     "data": {
      "text/plain": [
       "array([[-0.54314176, -0.65830698, -0.14077805, -0.56503702,  1.32028904,\n",
       "         0.66917713, -0.85445188, -0.16188862, -1.80282556,  0.89037243],\n",
       "       [ 1.21066049,  0.61176268,  1.07818345,  0.42229889,  1.65921142,\n",
       "         1.53696665, -0.24799506,  0.30773048, -2.46935238, -0.71513656],\n",
       "       [ 0.19502816, -0.64862852, -0.23241431, -0.37231318,  0.34850253,\n",
       "         0.20932072, -1.23134133, -0.36443698, -0.900004  ,  0.74688798],\n",
       "       [ 0.08538621, -0.05745856,  0.1847193 , -0.02320195, -0.86599281,\n",
       "        -1.02807385,  1.96684186,  1.31861091, -0.19738442, -0.82799356]])"
      ]
     },
     "execution_count": 15,
     "metadata": {},
     "output_type": "execute_result"
    }
   ],
   "source": [
    "x[3:10:2]"
   ]
  },
  {
   "cell_type": "code",
   "execution_count": 25,
   "id": "083907fd",
   "metadata": {},
   "outputs": [],
   "source": [
    "y=np.ones([10,10])\n",
    "y\n",
    "y[1:-1,1:-1]=0"
   ]
  },
  {
   "cell_type": "code",
   "execution_count": 26,
   "id": "32cdaed4",
   "metadata": {},
   "outputs": [
    {
     "data": {
      "text/plain": [
       "array([[1., 1., 1., 1., 1., 1., 1., 1., 1., 1.],\n",
       "       [1., 0., 0., 0., 0., 0., 0., 0., 0., 1.],\n",
       "       [1., 0., 0., 0., 0., 0., 0., 0., 0., 1.],\n",
       "       [1., 0., 0., 0., 0., 0., 0., 0., 0., 1.],\n",
       "       [1., 0., 0., 0., 0., 0., 0., 0., 0., 1.],\n",
       "       [1., 0., 0., 0., 0., 0., 0., 0., 0., 1.],\n",
       "       [1., 0., 0., 0., 0., 0., 0., 0., 0., 1.],\n",
       "       [1., 0., 0., 0., 0., 0., 0., 0., 0., 1.],\n",
       "       [1., 0., 0., 0., 0., 0., 0., 0., 0., 1.],\n",
       "       [1., 1., 1., 1., 1., 1., 1., 1., 1., 1.]])"
      ]
     },
     "execution_count": 26,
     "metadata": {},
     "output_type": "execute_result"
    }
   ],
   "source": [
    "y"
   ]
  },
  {
   "cell_type": "code",
   "execution_count": null,
   "id": "f88944c1",
   "metadata": {},
   "outputs": [],
   "source": []
  }
 ],
 "metadata": {
  "kernelspec": {
   "display_name": "Python 3 (ipykernel)",
   "language": "python",
   "name": "python3"
  },
  "language_info": {
   "codemirror_mode": {
    "name": "ipython",
    "version": 3
   },
   "file_extension": ".py",
   "mimetype": "text/x-python",
   "name": "python",
   "nbconvert_exporter": "python",
   "pygments_lexer": "ipython3",
   "version": "3.9.12"
  }
 },
 "nbformat": 4,
 "nbformat_minor": 5
}
